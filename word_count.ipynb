{
 "cells": [
  {
   "cell_type": "code",
   "execution_count": 12,
   "id": "95b1643b-f769-4281-8ace-921db0f7157f",
   "metadata": {},
   "outputs": [
    {
     "name": "stdin",
     "output_type": "stream",
     "text": [
      "enter words:   hello how are you doing \n"
     ]
    },
    {
     "name": "stdout",
     "output_type": "stream",
     "text": [
      "{7}\n"
     ]
    }
   ],
   "source": [
    "number_of_words=input(\"enter words: \")\n",
    "count=1\n",
    "for char in number_of_words:\n",
    "    if char ==\" \" or char == \"\\n\":\n",
    "        count +=1\n",
    "        \n",
    "print({count})\n",
    "\n"
   ]
  },
  {
   "cell_type": "code",
   "execution_count": 6,
   "id": "d8138ac4-7686-473e-b700-349e2b44f0af",
   "metadata": {},
   "outputs": [
    {
     "name": "stdin",
     "output_type": "stream",
     "text": [
      "this app will return the number of words in your paragraph; try it. gggeeg eejhwjq wqjedn ewejf \n"
     ]
    },
    {
     "name": "stdout",
     "output_type": "stream",
     "text": [
      "number of word in your paragraph are 5\n"
     ]
    }
   ],
   "source": [
    "paragraph=input(\"this app will return the number of words in your paragraph; try it.\")\n",
    "count = 0\n",
    "for char in paragraph:\n",
    "\n",
    "    if char ==\" \" or char ==\"\\n\":\n",
    "        count+=1\n",
    "\n",
    "print(f\"number of word in your paragraph are {count+1}\")\n",
    "        "
   ]
  },
  {
   "cell_type": "code",
   "execution_count": null,
   "id": "5922155b-b867-42ec-b74d-1e302ab11cb0",
   "metadata": {},
   "outputs": [],
   "source": []
  }
 ],
 "metadata": {
  "kernelspec": {
   "display_name": "Python 3 (ipykernel)",
   "language": "python",
   "name": "python3"
  },
  "language_info": {
   "codemirror_mode": {
    "name": "ipython",
    "version": 3
   },
   "file_extension": ".py",
   "mimetype": "text/x-python",
   "name": "python",
   "nbconvert_exporter": "python",
   "pygments_lexer": "ipython3",
   "version": "3.13.2"
  }
 },
 "nbformat": 4,
 "nbformat_minor": 5
}
